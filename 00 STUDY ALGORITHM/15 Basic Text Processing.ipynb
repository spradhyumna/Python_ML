{
 "cells": [
  {
   "cell_type": "markdown",
   "metadata": {},
   "source": [
    "# The Zen of Python"
   ]
  },
  {
   "cell_type": "code",
   "execution_count": null,
   "metadata": {},
   "outputs": [],
   "source": [
    "import this"
   ]
  },
  {
   "cell_type": "markdown",
   "metadata": {},
   "source": [
    "# Grammar for Strings"
   ]
  },
  {
   "cell_type": "markdown",
   "metadata": {},
   "source": [
    "```\n",
    "stringliteral   ::=  [stringprefix](shortstring | longstring)\n",
    "stringprefix    ::=  \"r\" | \"u\" | \"ur\" | \"R\" | \"U\" | \"UR\" | \"Ur\" | \"uR\"\n",
    "                     | \"b\" | \"B\" | \"br\" | \"Br\" | \"bR\" | \"BR\"\n",
    "shortstring     ::=  \"'\" shortstringitem* \"'\" | '\"' shortstringitem* '\"'\n",
    "longstring      ::=  \"'''\" longstringitem* \"'''\" | '\"\"\"' longstringitem* '\"\"\"'\n",
    "shortstringitem ::=  shortstringchar | escapeseq\n",
    "longstringitem  ::=  longstringchar | escapeseq\n",
    "shortstringchar ::=  <any source character except \"\\\" or newline or the quote>\n",
    "longstringchar  ::=  <any source character except \"\\\">\n",
    "escapeseq       ::=  \"\\\" <any ASCII character>\n",
    "```"
   ]
  },
  {
   "cell_type": "markdown",
   "metadata": {},
   "source": [
    "# String Types"
   ]
  },
  {
   "cell_type": "code",
   "execution_count": null,
   "metadata": {},
   "outputs": [],
   "source": [
    "new_string = \"This is a String\"  # storing a string\n",
    "\n",
    "print('ID:', id(new_string))  # shows the object identifier (address)\n",
    "print('Type:', type(new_string))  # shows the object type\n",
    "print('Value:', new_string)  # shows the object value"
   ]
  },
  {
   "cell_type": "markdown",
   "metadata": {},
   "source": [
    "### Simple String"
   ]
  },
  {
   "cell_type": "code",
   "execution_count": 1,
   "metadata": {},
   "outputs": [
    {
     "name": "stdout",
     "output_type": "stream",
     "text": [
      "Hello! I'm a simple string\n"
     ]
    }
   ],
   "source": [
    "simple_string = 'Hello!' + \" I'm a simple string\"\n",
    "print(simple_string)"
   ]
  },
  {
   "cell_type": "markdown",
   "metadata": {},
   "source": [
    "### Multi-line String"
   ]
  },
  {
   "cell_type": "code",
   "execution_count": 2,
   "metadata": {},
   "outputs": [
    {
     "data": {
      "text/plain": [
       "\"Hello I'm\\na multi-line\\nstring!\""
      ]
     },
     "execution_count": 2,
     "metadata": {},
     "output_type": "execute_result"
    }
   ],
   "source": [
    "# Note the \\n (newline) escape character automatically created\n",
    "multi_line_string = \"\"\"Hello I'm\n",
    "a multi-line\n",
    "string!\"\"\"\n",
    "\n",
    "multi_line_string"
   ]
  },
  {
   "cell_type": "code",
   "execution_count": 3,
   "metadata": {},
   "outputs": [
    {
     "name": "stdout",
     "output_type": "stream",
     "text": [
      "Hello I'm\n",
      "a multi-line\n",
      "string!\n"
     ]
    }
   ],
   "source": [
    "print(multi_line_string)"
   ]
  },
  {
   "cell_type": "markdown",
   "metadata": {},
   "source": [
    "### Escape sequences"
   ]
  },
  {
   "cell_type": "code",
   "execution_count": 4,
   "metadata": {},
   "outputs": [
    {
     "name": "stdout",
     "output_type": "stream",
     "text": [
      "C:\the_folder\n",
      "ew_dir\f",
      "ile.txt\n"
     ]
    }
   ],
   "source": [
    "# Normal string with escape sequences leading to a wrong file path!\n",
    "escaped_string = \"C:\\the_folder\\new_dir\\file.txt\"\n",
    "print(escaped_string)  # will cause errors if we try to open a file here"
   ]
  },
  {
   "cell_type": "code",
   "execution_count": 5,
   "metadata": {},
   "outputs": [
    {
     "name": "stdout",
     "output_type": "stream",
     "text": [
      "C:\\the_folder\\new_dir\\file.txt\n"
     ]
    }
   ],
   "source": [
    "# raw string keeping the backslashes in its normal form\n",
    "raw_string = r'C:\\the_folder\\new_dir\\file.txt'\n",
    "print(raw_string)"
   ]
  },
  {
   "cell_type": "markdown",
   "metadata": {},
   "source": [
    "### Unicode literals"
   ]
  },
  {
   "cell_type": "code",
   "execution_count": 6,
   "metadata": {},
   "outputs": [
    {
     "name": "stdout",
     "output_type": "stream",
     "text": [
      "Hèllo!\n"
     ]
    }
   ],
   "source": [
    "# unicode string literals\n",
    "string_with_unicode = 'H\\u00e8llo!'\n",
    "print(string_with_unicode)"
   ]
  },
  {
   "cell_type": "code",
   "execution_count": 7,
   "metadata": {},
   "outputs": [
    {
     "name": "stdout",
     "output_type": "stream",
     "text": [
      "I love Pizza 🍕!  Shall we book a cab 🚕 to get pizza?\n"
     ]
    }
   ],
   "source": [
    "more_unicode = 'I love Pizza 🍕!  Shall we book a cab 🚕 to get pizza?'\n",
    "print(more_unicode)"
   ]
  },
  {
   "cell_type": "markdown",
   "metadata": {},
   "source": [
    "## Your Turn: How can we reverse the above string?"
   ]
  },
  {
   "cell_type": "code",
   "execution_count": null,
   "metadata": {},
   "outputs": [],
   "source": [
    "more_unicode[______]  # reverses the string"
   ]
  },
  {
   "cell_type": "markdown",
   "metadata": {},
   "source": [
    "# String Operations\n"
   ]
  },
  {
   "cell_type": "markdown",
   "metadata": {},
   "source": [
    "### String Concatenation"
   ]
  },
  {
   "cell_type": "code",
   "execution_count": null,
   "metadata": {
    "scrolled": true
   },
   "outputs": [],
   "source": [
    "'Hello 😊' + ' and welcome ' + 'to Python 🐍!'"
   ]
  },
  {
   "cell_type": "code",
   "execution_count": null,
   "metadata": {},
   "outputs": [],
   "source": [
    "'Hello 😊' ' and welcome ' 'to Python 🐍!'"
   ]
  },
  {
   "cell_type": "code",
   "execution_count": null,
   "metadata": {},
   "outputs": [],
   "source": [
    "s3 = ('This '\n",
    "      'is another way '\n",
    "      'to concatenate '\n",
    "      'several strings!')\n",
    "s3"
   ]
  },
  {
   "cell_type": "markdown",
   "metadata": {},
   "source": [
    "### Substring check"
   ]
  },
  {
   "cell_type": "code",
   "execution_count": null,
   "metadata": {},
   "outputs": [],
   "source": [
    "'way' in s3"
   ]
  },
  {
   "cell_type": "markdown",
   "metadata": {},
   "source": [
    "### Your Turn: Validate if the string 'python' is not present in string s3"
   ]
  },
  {
   "cell_type": "code",
   "execution_count": null,
   "metadata": {},
   "outputs": [],
   "source": [
    "'python' in s3"
   ]
  },
  {
   "cell_type": "markdown",
   "metadata": {},
   "source": [
    "### String Length"
   ]
  },
  {
   "cell_type": "code",
   "execution_count": null,
   "metadata": {},
   "outputs": [],
   "source": [
    "len(s3)"
   ]
  },
  {
   "cell_type": "markdown",
   "metadata": {},
   "source": [
    "# String Indexing and Slicing"
   ]
  },
  {
   "cell_type": "code",
   "execution_count": null,
   "metadata": {},
   "outputs": [],
   "source": [
    "# creating a string\n",
    "s = 'PYTHON'\n",
    "s, type(s)"
   ]
  },
  {
   "cell_type": "markdown",
   "metadata": {},
   "source": [
    "## String Indexing"
   ]
  },
  {
   "cell_type": "code",
   "execution_count": null,
   "metadata": {},
   "outputs": [],
   "source": [
    "# depicting string indexes\n",
    "for index, character in enumerate(s):\n",
    "    print('Character ->', character, 'has index->', index)"
   ]
  },
  {
   "cell_type": "code",
   "execution_count": null,
   "metadata": {},
   "outputs": [],
   "source": [
    "s[0], s[1], s[2], s[3], s[4], s[5]"
   ]
  },
  {
   "cell_type": "code",
   "execution_count": null,
   "metadata": {},
   "outputs": [],
   "source": [
    "s[-1], s[-2], s[-3], s[-4], s[-5], s[-6]"
   ]
  },
  {
   "cell_type": "markdown",
   "metadata": {},
   "source": [
    "## String Slicing"
   ]
  },
  {
   "cell_type": "code",
   "execution_count": null,
   "metadata": {},
   "outputs": [],
   "source": [
    "s[:] "
   ]
  },
  {
   "cell_type": "code",
   "execution_count": null,
   "metadata": {},
   "outputs": [],
   "source": [
    "s[1:4]"
   ]
  },
  {
   "cell_type": "code",
   "execution_count": null,
   "metadata": {},
   "outputs": [],
   "source": [
    "s[:3], s[3:]"
   ]
  },
  {
   "cell_type": "code",
   "execution_count": null,
   "metadata": {},
   "outputs": [],
   "source": [
    "s[-3:]"
   ]
  },
  {
   "cell_type": "code",
   "execution_count": null,
   "metadata": {},
   "outputs": [],
   "source": [
    "s[:3] + s[3:]"
   ]
  },
  {
   "cell_type": "code",
   "execution_count": null,
   "metadata": {},
   "outputs": [],
   "source": [
    "s[:3] + s[-3:]"
   ]
  },
  {
   "cell_type": "markdown",
   "metadata": {},
   "source": [
    "## String slicing with offsets"
   ]
  },
  {
   "cell_type": "code",
   "execution_count": null,
   "metadata": {},
   "outputs": [],
   "source": [
    "s[::1]  # no offset"
   ]
  },
  {
   "cell_type": "code",
   "execution_count": null,
   "metadata": {},
   "outputs": [],
   "source": [
    "s[::2]  # print every 2nd character in string"
   ]
  },
  {
   "cell_type": "markdown",
   "metadata": {},
   "source": [
    "# String Immutability"
   ]
  },
  {
   "cell_type": "code",
   "execution_count": 3,
   "metadata": {},
   "outputs": [],
   "source": [
    "a = 'python'"
   ]
  },
  {
   "cell_type": "code",
   "execution_count": 4,
   "metadata": {},
   "outputs": [
    {
     "ename": "TypeError",
     "evalue": "'str' object does not support item assignment",
     "output_type": "error",
     "traceback": [
      "\u001b[1;31m---------------------------------------------------------------------------\u001b[0m",
      "\u001b[1;31mTypeError\u001b[0m                                 Traceback (most recent call last)",
      "\u001b[1;32m<ipython-input-4-efe343ff1699>\u001b[0m in \u001b[0;36m<module>\u001b[1;34m\u001b[0m\n\u001b[1;32m----> 1\u001b[1;33m \u001b[0ma\u001b[0m\u001b[1;33m[\u001b[0m\u001b[1;36m0\u001b[0m\u001b[1;33m]\u001b[0m \u001b[1;33m=\u001b[0m\u001b[1;34m\"P\"\u001b[0m\u001b[1;33m\u001b[0m\u001b[1;33m\u001b[0m\u001b[0m\n\u001b[0m",
      "\u001b[1;31mTypeError\u001b[0m: 'str' object does not support item assignment"
     ]
    }
   ],
   "source": [
    "a[0] =\"P\""
   ]
  },
  {
   "cell_type": "code",
   "execution_count": 6,
   "metadata": {},
   "outputs": [
    {
     "data": {
      "text/plain": [
       "['p', 'y', 't', 'h', 'o', 'n']"
      ]
     },
     "execution_count": 6,
     "metadata": {},
     "output_type": "execute_result"
    }
   ],
   "source": [
    "l= list(a)\n",
    "l"
   ]
  },
  {
   "cell_type": "code",
   "execution_count": 7,
   "metadata": {},
   "outputs": [],
   "source": [
    "l[0]='P'"
   ]
  },
  {
   "cell_type": "code",
   "execution_count": 8,
   "metadata": {},
   "outputs": [
    {
     "data": {
      "text/plain": [
       "['P', 'y', 't', 'h', 'o', 'n']"
      ]
     },
     "execution_count": 8,
     "metadata": {},
     "output_type": "execute_result"
    }
   ],
   "source": [
    "l"
   ]
  },
  {
   "cell_type": "code",
   "execution_count": null,
   "metadata": {},
   "outputs": [],
   "source": [
    "# strings are immutable hence assignment throws error\n",
    "s[0] = 'X'"
   ]
  },
  {
   "cell_type": "code",
   "execution_count": null,
   "metadata": {},
   "outputs": [],
   "source": [
    "print('Original String id:', id(s))\n",
    "# creates a new string\n",
    "s = 'X' + s[1:]\n",
    "print(s)\n",
    "print('New String id:', id(s))"
   ]
  },
  {
   "cell_type": "markdown",
   "metadata": {},
   "source": [
    "# Useful String methods"
   ]
  },
  {
   "cell_type": "markdown",
   "metadata": {},
   "source": [
    "## Case Conversions"
   ]
  },
  {
   "cell_type": "code",
   "execution_count": 2,
   "metadata": {},
   "outputs": [],
   "source": [
    "s = 'python is great'"
   ]
  },
  {
   "cell_type": "code",
   "execution_count": 3,
   "metadata": {},
   "outputs": [
    {
     "data": {
      "text/plain": [
       "'Python is great'"
      ]
     },
     "execution_count": 3,
     "metadata": {},
     "output_type": "execute_result"
    }
   ],
   "source": [
    "s.capitalize()"
   ]
  },
  {
   "cell_type": "code",
   "execution_count": 4,
   "metadata": {},
   "outputs": [
    {
     "data": {
      "text/plain": [
       "'PYTHON IS GREAT'"
      ]
     },
     "execution_count": 4,
     "metadata": {},
     "output_type": "execute_result"
    }
   ],
   "source": [
    "s.upper()"
   ]
  },
  {
   "cell_type": "code",
   "execution_count": 5,
   "metadata": {},
   "outputs": [
    {
     "data": {
      "text/plain": [
       "'Python Is Great'"
      ]
     },
     "execution_count": 5,
     "metadata": {},
     "output_type": "execute_result"
    }
   ],
   "source": [
    "s.title()"
   ]
  },
  {
   "cell_type": "markdown",
   "metadata": {},
   "source": [
    "## String Replace"
   ]
  },
  {
   "cell_type": "code",
   "execution_count": 6,
   "metadata": {},
   "outputs": [
    {
     "data": {
      "text/plain": [
       "'NLP is great'"
      ]
     },
     "execution_count": 6,
     "metadata": {},
     "output_type": "execute_result"
    }
   ],
   "source": [
    "s.replace('python', 'NLP')"
   ]
  },
  {
   "cell_type": "markdown",
   "metadata": {},
   "source": [
    "## Numeric Checks"
   ]
  },
  {
   "cell_type": "code",
   "execution_count": 8,
   "metadata": {},
   "outputs": [
    {
     "data": {
      "text/plain": [
       "True"
      ]
     },
     "execution_count": 8,
     "metadata": {},
     "output_type": "execute_result"
    }
   ],
   "source": [
    "'12345'.isdecimal()"
   ]
  },
  {
   "cell_type": "code",
   "execution_count": 9,
   "metadata": {},
   "outputs": [
    {
     "data": {
      "text/plain": [
       "False"
      ]
     },
     "execution_count": 9,
     "metadata": {},
     "output_type": "execute_result"
    }
   ],
   "source": [
    "'apollo11'.isdecimal()"
   ]
  },
  {
   "cell_type": "markdown",
   "metadata": {},
   "source": [
    "## Alphabet Checks"
   ]
  },
  {
   "cell_type": "code",
   "execution_count": 10,
   "metadata": {},
   "outputs": [
    {
     "data": {
      "text/plain": [
       "True"
      ]
     },
     "execution_count": 10,
     "metadata": {},
     "output_type": "execute_result"
    }
   ],
   "source": [
    "'python'.isalpha()"
   ]
  },
  {
   "cell_type": "code",
   "execution_count": 11,
   "metadata": {},
   "outputs": [
    {
     "data": {
      "text/plain": [
       "False"
      ]
     },
     "execution_count": 11,
     "metadata": {},
     "output_type": "execute_result"
    }
   ],
   "source": [
    "'number1'.isalpha()"
   ]
  },
  {
   "cell_type": "markdown",
   "metadata": {},
   "source": [
    "## Alphanumeric Checks"
   ]
  },
  {
   "cell_type": "code",
   "execution_count": 12,
   "metadata": {},
   "outputs": [
    {
     "data": {
      "text/plain": [
       "True"
      ]
     },
     "execution_count": 12,
     "metadata": {},
     "output_type": "execute_result"
    }
   ],
   "source": [
    "'12233'.isalnum()"
   ]
  },
  {
   "cell_type": "code",
   "execution_count": 21,
   "metadata": {},
   "outputs": [
    {
     "data": {
      "text/plain": [
       "True"
      ]
     },
     "execution_count": 21,
     "metadata": {},
     "output_type": "execute_result"
    }
   ],
   "source": [
    "'total'.isalnum()"
   ]
  },
  {
   "cell_type": "code",
   "execution_count": 22,
   "metadata": {},
   "outputs": [
    {
     "data": {
      "text/plain": [
       "True"
      ]
     },
     "execution_count": 22,
     "metadata": {},
     "output_type": "execute_result"
    }
   ],
   "source": [
    "'abc123'.isalnum()"
   ]
  },
  {
   "cell_type": "code",
   "execution_count": 13,
   "metadata": {},
   "outputs": [
    {
     "data": {
      "text/plain": [
       "False"
      ]
     },
     "execution_count": 13,
     "metadata": {},
     "output_type": "execute_result"
    }
   ],
   "source": [
    "'1-1'.isalnum()"
   ]
  },
  {
   "cell_type": "markdown",
   "metadata": {},
   "source": [
    "## String splitting and joining"
   ]
  },
  {
   "cell_type": "code",
   "execution_count": 14,
   "metadata": {},
   "outputs": [
    {
     "data": {
      "text/plain": [
       "'I,am,a,comma,separated,string'"
      ]
     },
     "execution_count": 14,
     "metadata": {},
     "output_type": "execute_result"
    }
   ],
   "source": [
    "s = 'I,am,a,comma,separated,string'\n",
    "s"
   ]
  },
  {
   "cell_type": "code",
   "execution_count": 15,
   "metadata": {},
   "outputs": [
    {
     "data": {
      "text/plain": [
       "['I', 'am', 'a', 'comma', 'separated', 'string']"
      ]
     },
     "execution_count": 15,
     "metadata": {},
     "output_type": "execute_result"
    }
   ],
   "source": [
    "s.split(',')"
   ]
  },
  {
   "cell_type": "code",
   "execution_count": 16,
   "metadata": {},
   "outputs": [
    {
     "data": {
      "text/plain": [
       "'I am a comma separated string'"
      ]
     },
     "execution_count": 16,
     "metadata": {},
     "output_type": "execute_result"
    }
   ],
   "source": [
    "' '.join(s.split(','))"
   ]
  },
  {
   "cell_type": "code",
   "execution_count": 17,
   "metadata": {},
   "outputs": [],
   "source": [
    "s1 = 'I am a comma separated string'"
   ]
  },
  {
   "cell_type": "code",
   "execution_count": 18,
   "metadata": {},
   "outputs": [
    {
     "data": {
      "text/plain": [
       "['I', 'am', 'a', 'comma', 'separated', 'string']"
      ]
     },
     "execution_count": 18,
     "metadata": {},
     "output_type": "execute_result"
    }
   ],
   "source": [
    "s1.split(' ')"
   ]
  },
  {
   "cell_type": "code",
   "execution_count": null,
   "metadata": {},
   "outputs": [],
   "source": []
  },
  {
   "cell_type": "code",
   "execution_count": null,
   "metadata": {},
   "outputs": [],
   "source": []
  },
  {
   "cell_type": "code",
   "execution_count": 19,
   "metadata": {},
   "outputs": [
    {
     "data": {
      "text/plain": [
       "'   I am surrounded by spaces    '"
      ]
     },
     "execution_count": 19,
     "metadata": {},
     "output_type": "execute_result"
    }
   ],
   "source": [
    "# stripping whitespace characters\n",
    "s = '   I am surrounded by spaces    '\n",
    "s"
   ]
  },
  {
   "cell_type": "code",
   "execution_count": 20,
   "metadata": {},
   "outputs": [
    {
     "data": {
      "text/plain": [
       "['', '', '', 'I', 'am', 'surrounded', 'by', 'spaces', '', '', '', '']"
      ]
     },
     "execution_count": 20,
     "metadata": {},
     "output_type": "execute_result"
    }
   ],
   "source": [
    "s.split(' ')"
   ]
  },
  {
   "cell_type": "code",
   "execution_count": 27,
   "metadata": {},
   "outputs": [
    {
     "data": {
      "text/plain": [
       "'I am surrounded by spaces'"
      ]
     },
     "execution_count": 27,
     "metadata": {},
     "output_type": "execute_result"
    }
   ],
   "source": [
    "s.strip()"
   ]
  },
  {
   "cell_type": "code",
   "execution_count": 29,
   "metadata": {},
   "outputs": [
    {
     "data": {
      "text/plain": [
       "['I', 'am', 'surrounded', 'by', 'spaces']"
      ]
     },
     "execution_count": 29,
     "metadata": {},
     "output_type": "execute_result"
    }
   ],
   "source": [
    "s.split()"
   ]
  },
  {
   "cell_type": "code",
   "execution_count": 23,
   "metadata": {},
   "outputs": [
    {
     "data": {
      "text/plain": [
       "['Python is great', ' NLP is also good', '']"
      ]
     },
     "execution_count": 23,
     "metadata": {},
     "output_type": "execute_result"
    }
   ],
   "source": [
    "sentences = 'Python is great. NLP is also good.'\n",
    "sentences.split('.')"
   ]
  },
  {
   "cell_type": "code",
   "execution_count": 33,
   "metadata": {},
   "outputs": [
    {
     "name": "stdout",
     "output_type": "stream",
     "text": [
      "Python is great\n",
      " NLP is also good\n",
      "\n"
     ]
    }
   ],
   "source": [
    "print('\\n'.join(sentences.split('.')))"
   ]
  },
  {
   "cell_type": "code",
   "execution_count": 25,
   "metadata": {},
   "outputs": [
    {
     "name": "stdout",
     "output_type": "stream",
     "text": [
      "Python is great\n",
      "NLP is also good\n"
     ]
    }
   ],
   "source": [
    "print('\\n'.join([sentence.strip(' ') \n",
    "                     for sentence in sentences.split('.') \n",
    "                         if sentence]))"
   ]
  },
  {
   "cell_type": "markdown",
   "metadata": {},
   "source": [
    "# String formatting"
   ]
  },
  {
   "cell_type": "markdown",
   "metadata": {},
   "source": [
    "## Formatting expressions with different data types - old style"
   ]
  },
  {
   "cell_type": "code",
   "execution_count": 36,
   "metadata": {},
   "outputs": [
    {
     "data": {
      "text/plain": [
       "'We have 2 bottles containing 2.500 gallons of milk'"
      ]
     },
     "execution_count": 36,
     "metadata": {},
     "output_type": "execute_result"
    }
   ],
   "source": [
    "'We have %d %s containing %.3f gallons of %s' %(2, 'bottles', 2.5, 'milk')"
   ]
  },
  {
   "cell_type": "code",
   "execution_count": 37,
   "metadata": {},
   "outputs": [
    {
     "data": {
      "text/plain": [
       "'We have 5 jugs containing 10.87 gallons of juice'"
      ]
     },
     "execution_count": 37,
     "metadata": {},
     "output_type": "execute_result"
    }
   ],
   "source": [
    "'We have %d %s containing %.2f gallons of %s' %(5.21, 'jugs', 10.86763, 'juice')"
   ]
  },
  {
   "cell_type": "markdown",
   "metadata": {},
   "source": [
    "## Formatting strings using the format method - new style"
   ]
  },
  {
   "cell_type": "code",
   "execution_count": 12,
   "metadata": {},
   "outputs": [
    {
     "data": {
      "text/plain": [
       "'Hello Mr. Jones, it is a great pleasure to meet you at 5'"
      ]
     },
     "execution_count": 12,
     "metadata": {},
     "output_type": "execute_result"
    }
   ],
   "source": [
    "'Hello {} {}, it is a great {} to meet you at {}'.format('Mr.', 'Jones', 'pleasure', 5)"
   ]
  },
  {
   "cell_type": "code",
   "execution_count": 39,
   "metadata": {},
   "outputs": [
    {
     "data": {
      "text/plain": [
       "\"Hello Sir Arthur, it is a great honor to meet you at 9 o' clock\""
      ]
     },
     "execution_count": 39,
     "metadata": {},
     "output_type": "execute_result"
    }
   ],
   "source": [
    "'Hello {} {}, it is a great {} to meet you at {} o\\' clock'.format('Sir', 'Arthur', 'honor', 9)"
   ]
  },
  {
   "cell_type": "code",
   "execution_count": null,
   "metadata": {},
   "outputs": [],
   "source": []
  },
  {
   "cell_type": "code",
   "execution_count": 32,
   "metadata": {},
   "outputs": [
    {
     "name": "stdout",
     "output_type": "stream",
     "text": [
      "Ramu is taking CSE\n"
     ]
    }
   ],
   "source": [
    "name = \"Ramu\"\n",
    "course = 'CSE'\n",
    "print(\"{} is taking {}\".format(name, course))"
   ]
  },
  {
   "cell_type": "code",
   "execution_count": null,
   "metadata": {},
   "outputs": [],
   "source": []
  },
  {
   "cell_type": "markdown",
   "metadata": {},
   "source": [
    "## Alternative ways of using string format"
   ]
  },
  {
   "cell_type": "code",
   "execution_count": 40,
   "metadata": {},
   "outputs": [
    {
     "data": {
      "text/plain": [
       "'I have a sandwich and a soda with me'"
      ]
     },
     "execution_count": 40,
     "metadata": {},
     "output_type": "execute_result"
    }
   ],
   "source": [
    "'I have a {food_item} and a {drink_item} with me'.format(drink_item='soda', food_item='sandwich')"
   ]
  },
  {
   "cell_type": "code",
   "execution_count": 41,
   "metadata": {},
   "outputs": [
    {
     "data": {
      "text/plain": [
       "\"The dog has the following attributes: ['lazy', 'loyal']\""
      ]
     },
     "execution_count": 41,
     "metadata": {},
     "output_type": "execute_result"
    }
   ],
   "source": [
    "'The {animal} has the following attributes: {attributes}'.format(animal='dog', attributes=['lazy', 'loyal'])"
   ]
  },
  {
   "cell_type": "markdown",
   "metadata": {},
   "source": [
    "# Regular Expressions"
   ]
  },
  {
   "cell_type": "code",
   "execution_count": 13,
   "metadata": {},
   "outputs": [
    {
     "data": {
      "text/plain": [
       "True"
      ]
     },
     "execution_count": 13,
     "metadata": {},
     "output_type": "execute_result"
    }
   ],
   "source": [
    "'a'=='a' # case sensitivity"
   ]
  },
  {
   "cell_type": "code",
   "execution_count": 14,
   "metadata": {},
   "outputs": [
    {
     "data": {
      "text/plain": [
       "False"
      ]
     },
     "execution_count": 14,
     "metadata": {},
     "output_type": "execute_result"
    }
   ],
   "source": [
    "'a'==\"A\"  # Case-Insensitivity"
   ]
  },
  {
   "cell_type": "code",
   "execution_count": null,
   "metadata": {},
   "outputs": [],
   "source": []
  },
  {
   "cell_type": "code",
   "execution_count": 41,
   "metadata": {},
   "outputs": [],
   "source": [
    "s1 = 'Python is an excellent language'\n",
    "s2 = 'I love the Python language. I also use Python to build applications at work!'"
   ]
  },
  {
   "cell_type": "code",
   "execution_count": 44,
   "metadata": {},
   "outputs": [],
   "source": [
    "import re\n",
    "\n",
    "pattern = 'python'\n",
    "# match only returns a match if regex match is found at the beginning of the string\n",
    "re.match(pattern, s1)"
   ]
  },
  {
   "cell_type": "code",
   "execution_count": 45,
   "metadata": {},
   "outputs": [
    {
     "data": {
      "text/plain": [
       "<_sre.SRE_Match object; span=(0, 6), match='Python'>"
      ]
     },
     "execution_count": 45,
     "metadata": {},
     "output_type": "execute_result"
    }
   ],
   "source": [
    "# pattern is in lower case hence ignore case flag helps\n",
    "# in matching same pattern with different cases\n",
    "re.match(pattern, s1, flags=re.IGNORECASE)"
   ]
  },
  {
   "cell_type": "code",
   "execution_count": 19,
   "metadata": {},
   "outputs": [
    {
     "name": "stdout",
     "output_type": "stream",
     "text": [
      "Found match Python ranging from index 0 - 6 in the string \"Python is an excellent language\"\n"
     ]
    }
   ],
   "source": [
    "# printing matched string and its indices in the original string\n",
    "m = re.match(pattern, s1, flags=re.IGNORECASE)\n",
    "print('Found match {} ranging from index {} - {} in the string \"{}\"'.format(m.group(0), \n",
    "                                                                            m.start(), \n",
    "                                                                            m.end(), s1))"
   ]
  },
  {
   "cell_type": "code",
   "execution_count": 46,
   "metadata": {},
   "outputs": [],
   "source": [
    "# match does not work when pattern is not there in the beginning of string s2\n",
    "re.match(pattern, s2, re.IGNORECASE)"
   ]
  },
  {
   "cell_type": "code",
   "execution_count": 47,
   "metadata": {},
   "outputs": [
    {
     "data": {
      "text/plain": [
       "<_sre.SRE_Match object; span=(11, 17), match='Python'>"
      ]
     },
     "execution_count": 47,
     "metadata": {},
     "output_type": "execute_result"
    }
   ],
   "source": [
    "# illustrating find and search methods using the re module\n",
    "re.search(pattern, s2, re.IGNORECASE)"
   ]
  },
  {
   "cell_type": "code",
   "execution_count": 53,
   "metadata": {},
   "outputs": [
    {
     "data": {
      "text/plain": [
       "['Python', 'Python']"
      ]
     },
     "execution_count": 53,
     "metadata": {},
     "output_type": "execute_result"
    }
   ],
   "source": [
    "re.findall(pattern, s2, re.IGNORECASE)"
   ]
  },
  {
   "cell_type": "code",
   "execution_count": null,
   "metadata": {},
   "outputs": [],
   "source": [
    "match_objs = re.finditer(pattern, s2, re.IGNORECASE)\n",
    "match_objs"
   ]
  },
  {
   "cell_type": "code",
   "execution_count": null,
   "metadata": {},
   "outputs": [],
   "source": [
    "print(\"String:\", s2)\n",
    "for m in match_objs:\n",
    "    print('Found match \"{}\" ranging from index {} - {}'.format(m.group(0), \n",
    "                                                               m.start(), m.end()))"
   ]
  },
  {
   "cell_type": "code",
   "execution_count": null,
   "metadata": {},
   "outputs": [],
   "source": [
    "# illustrating pattern substitution using sub and subn methods\n",
    "re.sub(pattern, 'Java', s2, flags=re.IGNORECASE)"
   ]
  },
  {
   "cell_type": "code",
   "execution_count": null,
   "metadata": {},
   "outputs": [],
   "source": [
    "re.subn(pattern, 'Java', s2, flags=re.IGNORECASE)"
   ]
  },
  {
   "cell_type": "code",
   "execution_count": 48,
   "metadata": {},
   "outputs": [
    {
     "data": {
      "text/plain": [
       "'Hèllo! this is Python 🐍'"
      ]
     },
     "execution_count": 48,
     "metadata": {},
     "output_type": "execute_result"
    }
   ],
   "source": [
    "# dealing with unicode matching using regexes\n",
    "s = u'H\\u00e8llo! this is Python 🐍'\n",
    "s"
   ]
  },
  {
   "cell_type": "code",
   "execution_count": 22,
   "metadata": {},
   "outputs": [
    {
     "data": {
      "text/plain": [
       "['Hèllo', 'this', 'is', 'Python']"
      ]
     },
     "execution_count": 22,
     "metadata": {},
     "output_type": "execute_result"
    }
   ],
   "source": [
    "re.findall(r'\\w+', s)"
   ]
  },
  {
   "cell_type": "code",
   "execution_count": 49,
   "metadata": {},
   "outputs": [
    {
     "data": {
      "text/plain": [
       "['Hèllo', 'Python']"
      ]
     },
     "execution_count": 49,
     "metadata": {},
     "output_type": "execute_result"
    }
   ],
   "source": [
    "re.findall(r\"[A-Z]\\w+\", s)"
   ]
  },
  {
   "cell_type": "code",
   "execution_count": 50,
   "metadata": {},
   "outputs": [
    {
     "data": {
      "text/plain": [
       "['llo', 'this', 'is', 'ython']"
      ]
     },
     "execution_count": 50,
     "metadata": {},
     "output_type": "execute_result"
    }
   ],
   "source": [
    "re.findall(r\"[a-z]\\w+\", s)"
   ]
  },
  {
   "cell_type": "code",
   "execution_count": 24,
   "metadata": {},
   "outputs": [
    {
     "data": {
      "text/plain": [
       "['🐍']"
      ]
     },
     "execution_count": 24,
     "metadata": {},
     "output_type": "execute_result"
    }
   ],
   "source": [
    "emoji_pattern = r\"['\\U0001F300-\\U0001F5FF'|'\\U0001F600-\\U0001F64F'|'\\U0001F680-\\U0001F6FF'|'\\u2600-\\u26FF\\u2700-\\u27BF']\"\n",
    "re.findall(emoji_pattern, s, re.UNICODE)"
   ]
  },
  {
   "cell_type": "markdown",
   "metadata": {},
   "source": [
    "# Putting it all together - Basic Text Processing and Analysis"
   ]
  },
  {
   "cell_type": "code",
   "execution_count": 25,
   "metadata": {},
   "outputs": [],
   "source": [
    "import nltk"
   ]
  },
  {
   "cell_type": "code",
   "execution_count": 26,
   "metadata": {},
   "outputs": [
    {
     "name": "stderr",
     "output_type": "stream",
     "text": [
      "[nltk_data] Downloading package gutenberg to\n",
      "[nltk_data]     C:\\Users\\jainneha\\AppData\\Roaming\\nltk_data...\n",
      "[nltk_data]   Package gutenberg is already up-to-date!\n"
     ]
    },
    {
     "data": {
      "text/plain": [
       "True"
      ]
     },
     "execution_count": 26,
     "metadata": {},
     "output_type": "execute_result"
    }
   ],
   "source": [
    "nltk.download('gutenberg')"
   ]
  },
  {
   "cell_type": "code",
   "execution_count": 27,
   "metadata": {},
   "outputs": [
    {
     "name": "stdout",
     "output_type": "stream",
     "text": [
      "['Hello world\\n', 'This is class to Python\\n', 'today we are exploring NLP\\n', 'NLP is Natural lan']\n"
     ]
    }
   ],
   "source": [
    "with open ('abc.txt','r+') as file:\n",
    "    t = file.readlines()\n",
    "    print(t)"
   ]
  },
  {
   "cell_type": "code",
   "execution_count": null,
   "metadata": {},
   "outputs": [],
   "source": []
  },
  {
   "cell_type": "code",
   "execution_count": 51,
   "metadata": {},
   "outputs": [
    {
     "data": {
      "text/plain": [
       "['[The King James Bible]\\n',\n",
       " '\\n',\n",
       " 'The Old Testament of the King James Bible\\n',\n",
       " '\\n',\n",
       " 'The First Book of Moses:  Called Genesis\\n']"
      ]
     },
     "execution_count": 51,
     "metadata": {},
     "output_type": "execute_result"
    }
   ],
   "source": [
    "from nltk.corpus import gutenberg\n",
    "import seaborn as sns\n",
    "\n",
    "%matplotlib inline\n",
    "\n",
    "bible = gutenberg.open('bible-kjv.txt')\n",
    "bible = bible.readlines()\n",
    "\n",
    "bible[:5]"
   ]
  },
  {
   "cell_type": "code",
   "execution_count": 52,
   "metadata": {},
   "outputs": [
    {
     "data": {
      "text/plain": [
       "99805"
      ]
     },
     "execution_count": 52,
     "metadata": {},
     "output_type": "execute_result"
    }
   ],
   "source": [
    "# Total lines\n",
    "len(bible)"
   ]
  },
  {
   "cell_type": "code",
   "execution_count": 70,
   "metadata": {},
   "outputs": [
    {
     "data": {
      "text/plain": [
       "['[The King James Bible]',\n",
       " '',\n",
       " 'The Old Testament of the King James Bible',\n",
       " '',\n",
       " 'The First Book of Moses:  Called Genesis']"
      ]
     },
     "execution_count": 70,
     "metadata": {},
     "output_type": "execute_result"
    }
   ],
   "source": [
    "[item.strip('\\n') for item in bible[:5]]"
   ]
  },
  {
   "cell_type": "code",
   "execution_count": 30,
   "metadata": {},
   "outputs": [
    {
     "data": {
      "text/plain": [
       "['[The King James Bible]',\n",
       " 'The Old Testament of the King James Bible',\n",
       " 'The First Book of Moses:  Called Genesis',\n",
       " '1:1 In the beginning God created the heaven and the earth.',\n",
       " '1:2 And the earth was without form, and void; and darkness was upon']"
      ]
     },
     "execution_count": 30,
     "metadata": {},
     "output_type": "execute_result"
    }
   ],
   "source": [
    "bible = list(filter(None, [item.strip('\\n') \n",
    "                               for item in bible]))\n",
    "bible[:5]"
   ]
  },
  {
   "cell_type": "code",
   "execution_count": 31,
   "metadata": {},
   "outputs": [
    {
     "data": {
      "text/plain": [
       "74645"
      ]
     },
     "execution_count": 31,
     "metadata": {},
     "output_type": "execute_result"
    }
   ],
   "source": [
    "len(bible)"
   ]
  },
  {
   "cell_type": "markdown",
   "metadata": {},
   "source": [
    "### Finding out the distribution of sentence lengths in the Bible"
   ]
  },
  {
   "cell_type": "code",
   "execution_count": 32,
   "metadata": {},
   "outputs": [
    {
     "data": {
      "image/png": "[encoded data removed]",
      "text/plain": [
       "<Figure size 432x288 with 1 Axes>"
      ]
     },
     "metadata": {
      "needs_background": "light"
     },
     "output_type": "display_data"
    }
   ],
   "source": [
    "line_lengths = [len(sentence) for sentence in bible]\n",
    "p = sns.kdeplot(line_lengths, shade=True, color='red')"
   ]
  },
  {
   "cell_type": "code",
   "execution_count": 76,
   "metadata": {},
   "outputs": [
    {
     "data": {
      "text/plain": [
       "<AxesSubplot:ylabel='Count'>"
      ]
     },
     "execution_count": 76,
     "metadata": {},
     "output_type": "execute_result"
    },
    {
     "data": {
      "image/png": "[encoded data removed]",
      "text/plain": [
       "<Figure size 432x288 with 1 Axes>"
      ]
     },
     "metadata": {
      "needs_background": "light"
     },
     "output_type": "display_data"
    }
   ],
   "source": [
    "sns.histplot(line_lengths)"
   ]
  },
  {
   "cell_type": "code",
   "execution_count": 54,
   "metadata": {},
   "outputs": [
    {
     "name": "stdout",
     "output_type": "stream",
     "text": [
      "[['[The', 'King', 'James', 'Bible]'], [], ['The', 'Old', 'Testament', 'of', 'the', 'King', 'James', 'Bible'], [], ['The', 'First', 'Book', 'of', 'Moses:', 'Called', 'Genesis']]\n"
     ]
    }
   ],
   "source": [
    "# splitting each sentence to get words\n",
    "tokens = [item.split() for item in bible]\n",
    "print(tokens[:5])"
   ]
  },
  {
   "cell_type": "markdown",
   "metadata": {},
   "source": [
    "### Your Turn: Plot the distribution of the typical sentence word counts across the Bible"
   ]
  },
  {
   "cell_type": "code",
   "execution_count": null,
   "metadata": {},
   "outputs": [],
   "source": [
    "total_tokens_per_line = [_______ for _____ in ______]\n",
    "p = sns.kdeplot(________, shade=True, color='orange')"
   ]
  },
  {
   "cell_type": "markdown",
   "metadata": {},
   "source": [
    "### Flattening a list of lists\n",
    "\n",
    "Note the two for statements in the list comprehension below which we use to convert our list of tokenized sentences into one big flat list of tokens."
   ]
  },
  {
   "cell_type": "code",
   "execution_count": 55,
   "metadata": {},
   "outputs": [
    {
     "data": {
      "text/plain": [
       "[['[The', 'King', 'James', 'Bible]'],\n",
       " [],\n",
       " ['The', 'Old', 'Testament', 'of', 'the', 'King', 'James', 'Bible']]"
      ]
     },
     "execution_count": 55,
     "metadata": {},
     "output_type": "execute_result"
    }
   ],
   "source": [
    "tokens[:3]"
   ]
  },
  {
   "cell_type": "code",
   "execution_count": 56,
   "metadata": {},
   "outputs": [],
   "source": [
    "word_lists = []"
   ]
  },
  {
   "cell_type": "code",
   "execution_count": 57,
   "metadata": {},
   "outputs": [],
   "source": [
    "for sentence in tokens[:3]:\n",
    "    for word in sentence:\n",
    "        word_lists.append(word)\n",
    "        \n",
    "        "
   ]
  },
  {
   "cell_type": "code",
   "execution_count": 58,
   "metadata": {},
   "outputs": [
    {
     "data": {
      "text/plain": [
       "['[The',\n",
       " 'King',\n",
       " 'James',\n",
       " 'Bible]',\n",
       " 'The',\n",
       " 'Old',\n",
       " 'Testament',\n",
       " 'of',\n",
       " 'the',\n",
       " 'King',\n",
       " 'James',\n",
       " 'Bible']"
      ]
     },
     "execution_count": 58,
     "metadata": {},
     "output_type": "execute_result"
    }
   ],
   "source": [
    "word_lists"
   ]
  },
  {
   "cell_type": "code",
   "execution_count": null,
   "metadata": {},
   "outputs": [],
   "source": []
  },
  {
   "cell_type": "code",
   "execution_count": 61,
   "metadata": {},
   "outputs": [
    {
     "name": "stdout",
     "output_type": "stream",
     "text": [
      "['[The', 'King', 'James', 'Bible]', 'The', 'Old', 'Testament', 'of', 'the', 'King', 'James', 'Bible', 'The', 'First', 'Book', 'of', 'Moses:', 'Called', 'Genesis', '1:1']\n"
     ]
    }
   ],
   "source": [
    "words = [word for sentence in tokens for word in sentence]\n",
    "print(words[:20])"
   ]
  },
  {
   "cell_type": "code",
   "execution_count": 62,
   "metadata": {},
   "outputs": [
    {
     "name": "stdout",
     "output_type": "stream",
     "text": [
      "['The', 'King', 'James', 'Bible', 'The', 'Old', 'Testament', 'of', 'the', 'King', 'James', 'Bible', 'The', 'First', 'Book', 'of', 'Moses', 'Called', 'Genesis', 'In']\n"
     ]
    }
   ],
   "source": [
    "# only keeping words and removing special characters\n",
    "words = list(filter(None, [re.sub(r'[^A-Za-z]', '', word) for word in words]))\n",
    "print(words[:20])"
   ]
  },
  {
   "cell_type": "markdown",
   "metadata": {},
   "source": [
    "### Finding the top ten most common words"
   ]
  },
  {
   "cell_type": "code",
   "execution_count": 63,
   "metadata": {
    "collapsed": true
   },
   "outputs": [
    {
     "data": {
      "text/plain": [
       "['the',\n",
       " 'king',\n",
       " 'james',\n",
       " 'bible',\n",
       " 'the',\n",
       " 'old',\n",
       " 'testament',\n",
       " 'of',\n",
       " 'the',\n",
       " 'king',\n",
       " 'james',\n",
       " 'bible',\n",
       " 'the',\n",
       " 'first',\n",
       " 'book',\n",
       " 'of',\n",
       " 'moses',\n",
       " 'called',\n",
       " 'genesis',\n",
       " 'in']"
      ]
     },
     "execution_count": 63,
     "metadata": {},
     "output_type": "execute_result"
    }
   ],
   "source": [
    "from collections import Counter\n",
    "\n",
    "words = [word.lower() for word in words]\n",
    "words[:20]"
   ]
  },
  {
   "cell_type": "code",
   "execution_count": 64,
   "metadata": {},
   "outputs": [
    {
     "data": {
      "text/plain": [
       "Counter({'the': 64023,\n",
       "         'king': 2259,\n",
       "         'james': 46,\n",
       "         'bible': 3,\n",
       "         'old': 381,\n",
       "         'testament': 16,\n",
       "         'of': 34670,\n",
       "         'first': 445,\n",
       "         'book': 214,\n",
       "         'moses': 852,\n",
       "         'called': 634,\n",
       "         'genesis': 1,\n",
       "         'in': 12667,\n",
       "         'beginning': 106,\n",
       "         'god': 4442,\n",
       "         'created': 45,\n",
       "         'heaven': 582,\n",
       "         'and': 51696,\n",
       "         'earth': 987,\n",
       "         'was': 4522,\n",
       "         'without': 426,\n",
       "         'form': 24,\n",
       "         'void': 24,\n",
       "         'darkness': 162,\n",
       "         'upon': 2748,\n",
       "         'face': 416,\n",
       "         'deep': 65,\n",
       "         'spirit': 505,\n",
       "         'moved': 75,\n",
       "         'waters': 287,\n",
       "         'said': 3999,\n",
       "         'let': 1511,\n",
       "         'there': 2299,\n",
       "         'be': 7013,\n",
       "         'light': 272,\n",
       "         'saw': 548,\n",
       "         'that': 12912,\n",
       "         'it': 6129,\n",
       "         'good': 720,\n",
       "         'divided': 69,\n",
       "         'from': 3642,\n",
       "         'day': 1734,\n",
       "         'he': 10419,\n",
       "         'night': 307,\n",
       "         'evening': 60,\n",
       "         'morning': 227,\n",
       "         'were': 2772,\n",
       "         'a': 8177,\n",
       "         'firmament': 17,\n",
       "         'midst': 364,\n",
       "         'divide': 49,\n",
       "         'made': 1405,\n",
       "         'which': 4413,\n",
       "         'under': 392,\n",
       "         'above': 223,\n",
       "         'so': 1689,\n",
       "         'second': 178,\n",
       "         'gathered': 267,\n",
       "         'together': 484,\n",
       "         'unto': 8997,\n",
       "         'one': 1967,\n",
       "         'place': 716,\n",
       "         'dry': 71,\n",
       "         'land': 1718,\n",
       "         'appear': 54,\n",
       "         'gathering': 11,\n",
       "         'seas': 25,\n",
       "         'bring': 725,\n",
       "         'forth': 888,\n",
       "         'grass': 62,\n",
       "         'herb': 19,\n",
       "         'yielding': 7,\n",
       "         'seed': 279,\n",
       "         'fruit': 208,\n",
       "         'tree': 201,\n",
       "         'after': 1179,\n",
       "         'his': 8473,\n",
       "         'kind': 45,\n",
       "         'whose': 314,\n",
       "         'is': 6989,\n",
       "         'itself': 50,\n",
       "         'brought': 863,\n",
       "         'third': 185,\n",
       "         'lights': 10,\n",
       "         'to': 13580,\n",
       "         'them': 6430,\n",
       "         'for': 8970,\n",
       "         'signs': 53,\n",
       "         'seasons': 12,\n",
       "         'days': 877,\n",
       "         'years': 541,\n",
       "         'give': 880,\n",
       "         'two': 835,\n",
       "         'great': 962,\n",
       "         'greater': 77,\n",
       "         'rule': 66,\n",
       "         'lesser': 3,\n",
       "         'stars': 51,\n",
       "         'also': 1769,\n",
       "         'set': 695,\n",
       "         'over': 1008,\n",
       "         'fourth': 86,\n",
       "         'abundantly': 32,\n",
       "         'moving': 5,\n",
       "         'creature': 29,\n",
       "         'hath': 2264,\n",
       "         'life': 450,\n",
       "         'fowl': 31,\n",
       "         'may': 1027,\n",
       "         'fly': 25,\n",
       "         'open': 124,\n",
       "         'whales': 2,\n",
       "         'every': 1236,\n",
       "         'living': 147,\n",
       "         'moveth': 8,\n",
       "         'their': 3932,\n",
       "         'winged': 2,\n",
       "         'blessed': 302,\n",
       "         'saying': 1445,\n",
       "         'fruitful': 35,\n",
       "         'multiply': 46,\n",
       "         'fill': 49,\n",
       "         'fifth': 62,\n",
       "         'cattle': 153,\n",
       "         'creeping': 29,\n",
       "         'thing': 542,\n",
       "         'beast': 180,\n",
       "         'creepeth': 14,\n",
       "         'us': 1448,\n",
       "         'make': 1056,\n",
       "         'man': 2613,\n",
       "         'our': 1165,\n",
       "         'image': 100,\n",
       "         'likeness': 34,\n",
       "         'have': 3904,\n",
       "         'dominion': 62,\n",
       "         'fish': 35,\n",
       "         'sea': 400,\n",
       "         'air': 39,\n",
       "         'all': 5620,\n",
       "         'own': 596,\n",
       "         'him': 6659,\n",
       "         'male': 46,\n",
       "         'female': 24,\n",
       "         'replenish': 2,\n",
       "         'subdue': 8,\n",
       "         'behold': 1326,\n",
       "         'i': 8854,\n",
       "         'given': 498,\n",
       "         'you': 2614,\n",
       "         'bearing': 22,\n",
       "         'shall': 9838,\n",
       "         'meat': 290,\n",
       "         'wherein': 167,\n",
       "         'green': 41,\n",
       "         'had': 2026,\n",
       "         'very': 257,\n",
       "         'sixth': 47,\n",
       "         'thus': 737,\n",
       "         'heavens': 134,\n",
       "         'finished': 42,\n",
       "         'host': 192,\n",
       "         'on': 2011,\n",
       "         'seventh': 120,\n",
       "         'ended': 21,\n",
       "         'work': 419,\n",
       "         'rested': 21,\n",
       "         'sanctified': 62,\n",
       "         'because': 1209,\n",
       "         'these': 1225,\n",
       "         'are': 2950,\n",
       "         'generations': 118,\n",
       "         'when': 2834,\n",
       "         'they': 7376,\n",
       "         'lord': 7830,\n",
       "         'plant': 42,\n",
       "         'field': 291,\n",
       "         'before': 1796,\n",
       "         'grew': 28,\n",
       "         'not': 6596,\n",
       "         'caused': 94,\n",
       "         'rain': 102,\n",
       "         'till': 169,\n",
       "         'ground': 192,\n",
       "         'but': 3992,\n",
       "         'went': 1400,\n",
       "         'up': 2380,\n",
       "         'mist': 3,\n",
       "         'watered': 11,\n",
       "         'whole': 250,\n",
       "         'formed': 33,\n",
       "         'dust': 108,\n",
       "         'breathed': 4,\n",
       "         'into': 2015,\n",
       "         'nostrils': 15,\n",
       "         'breath': 42,\n",
       "         'became': 106,\n",
       "         'soul': 458,\n",
       "         'planted': 39,\n",
       "         'garden': 52,\n",
       "         'eastward': 40,\n",
       "         'eden': 20,\n",
       "         'put': 911,\n",
       "         'whom': 763,\n",
       "         'out': 2775,\n",
       "         'grow': 38,\n",
       "         'pleasant': 57,\n",
       "         'sight': 333,\n",
       "         'food': 55,\n",
       "         'knowledge': 172,\n",
       "         'evil': 613,\n",
       "         'river': 175,\n",
       "         'water': 396,\n",
       "         'thence': 145,\n",
       "         'parted': 12,\n",
       "         'four': 328,\n",
       "         'heads': 110,\n",
       "         'name': 928,\n",
       "         'pison': 1,\n",
       "         'compasseth': 5,\n",
       "         'havilah': 7,\n",
       "         'where': 401,\n",
       "         'gold': 417,\n",
       "         'bdellium': 2,\n",
       "         'onyx': 11,\n",
       "         'stone': 191,\n",
       "         'gihon': 6,\n",
       "         'same': 332,\n",
       "         'ethiopia': 20,\n",
       "         'hiddekel': 2,\n",
       "         'goeth': 135,\n",
       "         'toward': 346,\n",
       "         'east': 157,\n",
       "         'assyria': 118,\n",
       "         'euphrates': 21,\n",
       "         'took': 750,\n",
       "         'dress': 9,\n",
       "         'keep': 362,\n",
       "         'commanded': 443,\n",
       "         'thou': 5474,\n",
       "         'mayest': 114,\n",
       "         'freely': 17,\n",
       "         'eat': 655,\n",
       "         'shalt': 1616,\n",
       "         'eatest': 3,\n",
       "         'thereof': 906,\n",
       "         'surely': 284,\n",
       "         'die': 321,\n",
       "         'should': 783,\n",
       "         'alone': 108,\n",
       "         'will': 3836,\n",
       "         'an': 1699,\n",
       "         'help': 126,\n",
       "         'meet': 132,\n",
       "         'adam': 30,\n",
       "         'see': 597,\n",
       "         'what': 985,\n",
       "         'would': 451,\n",
       "         'call': 195,\n",
       "         'whatsoever': 152,\n",
       "         'gave': 465,\n",
       "         'names': 127,\n",
       "         'found': 402,\n",
       "         'sleep': 82,\n",
       "         'fall': 252,\n",
       "         'slept': 49,\n",
       "         'ribs': 2,\n",
       "         'closed': 11,\n",
       "         'flesh': 420,\n",
       "         'instead': 39,\n",
       "         'rib': 5,\n",
       "         'taken': 338,\n",
       "         'woman': 357,\n",
       "         'her': 1994,\n",
       "         'this': 2785,\n",
       "         'now': 1356,\n",
       "         'bone': 19,\n",
       "         'my': 4368,\n",
       "         'bones': 99,\n",
       "         'she': 982,\n",
       "         'therefore': 1237,\n",
       "         'leave': 115,\n",
       "         'father': 979,\n",
       "         'mother': 245,\n",
       "         'cleave': 30,\n",
       "         'wife': 396,\n",
       "         'both': 361,\n",
       "         'naked': 47,\n",
       "         'ashamed': 122,\n",
       "         'serpent': 38,\n",
       "         'more': 686,\n",
       "         'subtil': 3,\n",
       "         'than': 482,\n",
       "         'any': 912,\n",
       "         'yea': 340,\n",
       "         'ye': 3983,\n",
       "         'we': 1844,\n",
       "         'trees': 157,\n",
       "         'neither': 879,\n",
       "         'touch': 48,\n",
       "         'lest': 240,\n",
       "         'doth': 207,\n",
       "         'know': 763,\n",
       "         'then': 2169,\n",
       "         'your': 1778,\n",
       "         'eyes': 503,\n",
       "         'opened': 137,\n",
       "         'as': 3520,\n",
       "         'gods': 270,\n",
       "         'knowing': 51,\n",
       "         'desired': 50,\n",
       "         'wise': 247,\n",
       "         'did': 1006,\n",
       "         'husband': 120,\n",
       "         'with': 6012,\n",
       "         'knew': 169,\n",
       "         'sewed': 2,\n",
       "         'fig': 41,\n",
       "         'leaves': 19,\n",
       "         'themselves': 409,\n",
       "         'aprons': 2,\n",
       "         'heard': 641,\n",
       "         'voice': 505,\n",
       "         'walking': 30,\n",
       "         'cool': 2,\n",
       "         'hid': 129,\n",
       "         'presence': 116,\n",
       "         'amongst': 2,\n",
       "         'art': 494,\n",
       "         'thy': 4600,\n",
       "         'afraid': 193,\n",
       "         'myself': 118,\n",
       "         'who': 968,\n",
       "         'told': 282,\n",
       "         'thee': 3826,\n",
       "         'wast': 66,\n",
       "         'hast': 1070,\n",
       "         'eaten': 105,\n",
       "         'whereof': 72,\n",
       "         'shouldest': 73,\n",
       "         'gavest': 34,\n",
       "         'me': 4096,\n",
       "         'done': 565,\n",
       "         'beguiled': 5,\n",
       "         'cursed': 72,\n",
       "         'belly': 49,\n",
       "         'go': 1492,\n",
       "         'enmity': 8,\n",
       "         'between': 232,\n",
       "         'bruise': 8,\n",
       "         'head': 364,\n",
       "         'heel': 6,\n",
       "         'greatly': 87,\n",
       "         'sorrow': 70,\n",
       "         'conception': 3,\n",
       "         'children': 1802,\n",
       "         'desire': 111,\n",
       "         'hearkened': 81,\n",
       "         'sake': 145,\n",
       "         'thorns': 50,\n",
       "         'thistles': 3,\n",
       "         'sweat': 3,\n",
       "         'bread': 361,\n",
       "         'return': 263,\n",
       "         'wifes': 11,\n",
       "         'eve': 4,\n",
       "         'coats': 14,\n",
       "         'skins': 24,\n",
       "         'clothed': 73,\n",
       "         'become': 135,\n",
       "         'hand': 1466,\n",
       "         'take': 874,\n",
       "         'live': 247,\n",
       "         'ever': 476,\n",
       "         'sent': 685,\n",
       "         'whence': 72,\n",
       "         'drove': 12,\n",
       "         'placed': 14,\n",
       "         'at': 1570,\n",
       "         'cherubims': 65,\n",
       "         'flaming': 9,\n",
       "         'sword': 424,\n",
       "         'turned': 287,\n",
       "         'way': 664,\n",
       "         'conceived': 46,\n",
       "         'bare': 185,\n",
       "         'cain': 20,\n",
       "         'gotten': 25,\n",
       "         'again': 672,\n",
       "         'brother': 367,\n",
       "         'abel': 16,\n",
       "         'keeper': 21,\n",
       "         'sheep': 187,\n",
       "         'tiller': 1,\n",
       "         'process': 5,\n",
       "         'time': 623,\n",
       "         'came': 2093,\n",
       "         'pass': 830,\n",
       "         'offering': 724,\n",
       "         'firstlings': 6,\n",
       "         'flock': 111,\n",
       "         'fat': 130,\n",
       "         'respect': 34,\n",
       "         'wroth': 49,\n",
       "         'countenance': 53,\n",
       "         'fell': 243,\n",
       "         'why': 282,\n",
       "         'fallen': 79,\n",
       "         'if': 1595,\n",
       "         'doest': 45,\n",
       "         'well': 256,\n",
       "         'accepted': 29,\n",
       "         'sin': 447,\n",
       "         'lieth': 59,\n",
       "         'door': 190,\n",
       "         'talked': 42,\n",
       "         'rose': 131,\n",
       "         'against': 1667,\n",
       "         'slew': 196,\n",
       "         'am': 874,\n",
       "         'brothers': 36,\n",
       "         'blood': 447,\n",
       "         'crieth': 17,\n",
       "         'mouth': 423,\n",
       "         'receive': 176,\n",
       "         'tillest': 1,\n",
       "         'henceforth': 33,\n",
       "         'yield': 30,\n",
       "         'strength': 242,\n",
       "         'fugitive': 2,\n",
       "         'vagabond': 3,\n",
       "         'punishment': 27,\n",
       "         'can': 235,\n",
       "         'bear': 215,\n",
       "         'driven': 49,\n",
       "         'come': 1971,\n",
       "         'findeth': 27,\n",
       "         'slay': 117,\n",
       "         'whosoever': 182,\n",
       "         'slayeth': 5,\n",
       "         'vengeance': 45,\n",
       "         'sevenfold': 6,\n",
       "         'mark': 38,\n",
       "         'finding': 10,\n",
       "         'kill': 125,\n",
       "         'dwelt': 226,\n",
       "         'nod': 1,\n",
       "         'enoch': 12,\n",
       "         'builded': 50,\n",
       "         'city': 868,\n",
       "         'son': 2370,\n",
       "         'born': 158,\n",
       "         'irad': 2,\n",
       "         'begat': 225,\n",
       "         'mehujael': 2,\n",
       "         'methusael': 2,\n",
       "         'lamech': 12,\n",
       "         'wives': 133,\n",
       "         'adah': 8,\n",
       "         'other': 464,\n",
       "         'zillah': 3,\n",
       "         'jabal': 1,\n",
       "         'such': 249,\n",
       "         'dwell': 338,\n",
       "         'tents': 66,\n",
       "         'jubal': 1,\n",
       "         'handle': 11,\n",
       "         'harp': 30,\n",
       "         'organ': 3,\n",
       "         'tubalcain': 2,\n",
       "         'instructer': 1,\n",
       "         'artificer': 2,\n",
       "         'brass': 126,\n",
       "         'iron': 101,\n",
       "         'sister': 109,\n",
       "         'naamah': 5,\n",
       "         'hear': 550,\n",
       "         'hearken': 153,\n",
       "         'speech': 49,\n",
       "         'slain': 183,\n",
       "         'wounding': 1,\n",
       "         'young': 300,\n",
       "         'hurt': 63,\n",
       "         'avenged': 16,\n",
       "         'truly': 42,\n",
       "         'seventy': 61,\n",
       "         'seth': 8,\n",
       "         'appointed': 126,\n",
       "         'another': 448,\n",
       "         'enos': 7,\n",
       "         'began': 179,\n",
       "         'men': 1653,\n",
       "         'lived': 58,\n",
       "         'hundred': 590,\n",
       "         'thirty': 174,\n",
       "         'begotten': 24,\n",
       "         'eight': 80,\n",
       "         'sons': 1116,\n",
       "         'daughters': 255,\n",
       "         'nine': 50,\n",
       "         'died': 201,\n",
       "         'five': 345,\n",
       "         'seven': 463,\n",
       "         'twelve': 188,\n",
       "         'ninety': 24,\n",
       "         'cainan': 7,\n",
       "         'fifteen': 24,\n",
       "         'mahalaleel': 7,\n",
       "         'forty': 157,\n",
       "         'ten': 248,\n",
       "         'sixty': 15,\n",
       "         'jared': 6,\n",
       "         'methuselah': 6,\n",
       "         'walked': 122,\n",
       "         'three': 485,\n",
       "         'eighty': 3,\n",
       "         'noah': 51,\n",
       "         'comfort': 66,\n",
       "         'concerning': 241,\n",
       "         'toil': 4,\n",
       "         'hands': 462,\n",
       "         'shem': 17,\n",
       "         'ham': 17,\n",
       "         'japheth': 11,\n",
       "         'fair': 53,\n",
       "         'chose': 29,\n",
       "         'always': 62,\n",
       "         'strive': 22,\n",
       "         'yet': 683,\n",
       "         'twenty': 293,\n",
       "         'giants': 13,\n",
       "         'those': 465,\n",
       "         'mighty': 284,\n",
       "         'renown': 7,\n",
       "         'wickedness': 127,\n",
       "         'imagination': 14,\n",
       "         'thoughts': 57,\n",
       "         'heart': 830,\n",
       "         'only': 253,\n",
       "         'continually': 81,\n",
       "         'repented': 32,\n",
       "         'grieved': 40,\n",
       "         'destroy': 261,\n",
       "         'fowls': 55,\n",
       "         'repenteth': 5,\n",
       "         'grace': 170,\n",
       "         'just': 94,\n",
       "         'perfect': 99,\n",
       "         'corrupt': 33,\n",
       "         'filled': 159,\n",
       "         'violence': 57,\n",
       "         'looked': 143,\n",
       "         'corrupted': 14,\n",
       "         'end': 307,\n",
       "         'through': 463,\n",
       "         'ark': 230,\n",
       "         'gopher': 1,\n",
       "         'wood': 140,\n",
       "         'rooms': 7,\n",
       "         'pitch': 19,\n",
       "         'within': 186,\n",
       "         'fashion': 13,\n",
       "         'length': 77,\n",
       "         'cubits': 213,\n",
       "         'breadth': 89,\n",
       "         'fifty': 157,\n",
       "         'height': 62,\n",
       "         'window': 16,\n",
       "         'cubit': 45,\n",
       "         'finish': 11,\n",
       "         'side': 442,\n",
       "         'lower': 18,\n",
       "         'stories': 5,\n",
       "         'even': 1393,\n",
       "         'do': 1368,\n",
       "         'flood': 43,\n",
       "         'establish': 44,\n",
       "         'covenant': 292,\n",
       "         'sort': 21,\n",
       "         'alive': 88,\n",
       "         'gather': 165,\n",
       "         'according': 797,\n",
       "         'house': 2024,\n",
       "         'seen': 277,\n",
       "         'righteous': 238,\n",
       "         'generation': 107,\n",
       "         'clean': 133,\n",
       "         'by': 2624,\n",
       "         'sevens': 2,\n",
       "         'beasts': 157,\n",
       "         'cause': 328,\n",
       "         'nights': 18,\n",
       "         'substance': 50,\n",
       "         'off': 507,\n",
       "         'six': 202,\n",
       "         'hundredth': 3,\n",
       "         'year': 367,\n",
       "         'noahs': 2,\n",
       "         'month': 250,\n",
       "         'seventeenth': 6,\n",
       "         'fountains': 15,\n",
       "         'broken': 186,\n",
       "         'windows': 30,\n",
       "         'selfsame': 15,\n",
       "         'entered': 107,\n",
       "         'bird': 28,\n",
       "         'shut': 105,\n",
       "         'increased': 49,\n",
       "         'lift': 104,\n",
       "         'prevailed': 37,\n",
       "         'exceedingly': 40,\n",
       "         'high': 416,\n",
       "         'hills': 66,\n",
       "         'covered': 105,\n",
       "         'upward': 61,\n",
       "         'prevail': 29,\n",
       "         'mountains': 178,\n",
       "         'destroyed': 167,\n",
       "         'things': 1162,\n",
       "         'remained': 53,\n",
       "         'remembered': 57,\n",
       "         'wind': 123,\n",
       "         'asswaged': 2,\n",
       "         'stopped': 15,\n",
       "         'restrained': 8,\n",
       "         'returned': 184,\n",
       "         'abated': 6,\n",
       "         'ararat': 2,\n",
       "         'decreased': 1,\n",
       "         'until': 366,\n",
       "         'tenth': 81,\n",
       "         'tops': 11,\n",
       "         'raven': 6,\n",
       "         'fro': 25,\n",
       "         'dried': 39,\n",
       "         'dove': 18,\n",
       "         'no': 1394,\n",
       "         'rest': 275,\n",
       "         'sole': 12,\n",
       "         'foot': 95,\n",
       "         'pulled': 7,\n",
       "         'stayed': 31,\n",
       "         'lo': 159,\n",
       "         'olive': 38,\n",
       "         'leaf': 11,\n",
       "         'pluckt': 1,\n",
       "         'removed': 91,\n",
       "         'covering': 48,\n",
       "         'twentieth': 36,\n",
       "         'spake': 587,\n",
       "         'breed': 2,\n",
       "         'kinds': 10,\n",
       "         'altar': 378,\n",
       "         'offered': 143,\n",
       "         'burnt': 366,\n",
       "         'offerings': 265,\n",
       "         'smelled': 2,\n",
       "         'sweet': 108,\n",
       "         'savour': 54,\n",
       "         'curse': 101,\n",
       "         'mans': 122,\n",
       "         'youth': 70,\n",
       "         'smite': 125,\n",
       "         'while': 214,\n",
       "         'remaineth': 37,\n",
       "         'seedtime': 1,\n",
       "         'harvest': 61,\n",
       "         'cold': 18,\n",
       "         'heat': 32,\n",
       "         'summer': 27,\n",
       "         'winter': 14,\n",
       "         'cease': 70,\n",
       "         'fear': 400,\n",
       "         'dread': 9,\n",
       "         'fishes': 27,\n",
       "         'delivered': 290,\n",
       "         'liveth': 96,\n",
       "         'lives': 28,\n",
       "         'require': 29,\n",
       "         'whoso': 54,\n",
       "         'sheddeth': 2,\n",
       "         'shed': 52,\n",
       "         'therein': 229,\n",
       "         'cut': 320,\n",
       "         'token': 14,\n",
       "         'perpetual': 28,\n",
       "         'bow': 100,\n",
       "         'cloud': 107,\n",
       "         'remember': 148,\n",
       "         'look': 156,\n",
       "         'everlasting': 97,\n",
       "         'established': 74,\n",
       "         'canaan': 91,\n",
       "         'overspread': 1,\n",
       "         'husbandman': 7,\n",
       "         'vineyard': 69,\n",
       "         'drank': 19,\n",
       "         'wine': 231,\n",
       "         'drunken': 33,\n",
       "         'uncovered': 17,\n",
       "         'tent': 98,\n",
       "         'nakedness': 57,\n",
       "         'brethren': 563,\n",
       "         'garment': 86,\n",
       "         'laid': 279,\n",
       "         'shoulders': 20,\n",
       "         'backward': 18,\n",
       "         'faces': 73,\n",
       "         'fathers': 696,\n",
       "         'awoke': 8,\n",
       "         'younger': 31,\n",
       "         'servant': 489,\n",
       "         'servants': 489,\n",
       "         'enlarge': 10,\n",
       "         'gomer': 6,\n",
       "         'magog': 5,\n",
       "         'madai': 2,\n",
       "         'javan': 7,\n",
       "         'tubal': 8,\n",
       "         'meshech': 8,\n",
       "         'tiras': 2,\n",
       "         'ashkenaz': 1,\n",
       "         'riphath': 2,\n",
       "         'togarmah': 4,\n",
       "         'elishah': 3,\n",
       "         'tarshish': 24,\n",
       "         'kittim': 2,\n",
       "         'dodanim': 2,\n",
       "         'isles': 27,\n",
       "         'gentiles': 129,\n",
       "         'lands': 46,\n",
       "         'tongue': 129,\n",
       "         'families': 174,\n",
       "         'nations': 336,\n",
       "         'cush': 7,\n",
       "         'mizraim': 4,\n",
       "         'phut': 2,\n",
       "         'seba': 4,\n",
       "         'sabtah': 1,\n",
       "         'raamah': 5,\n",
       "         'sabtechah': 1,\n",
       "         'sheba': 32,\n",
       "         'dedan': 11,\n",
       "         'nimrod': 4,\n",
       "         'hunter': 4,\n",
       "         'wherefore': 348,\n",
       "         'kingdom': 342,\n",
       "         'babel': 2,\n",
       "         'erech': 1,\n",
       "         'accad': 1,\n",
       "         'calneh': 2,\n",
       "         'shinar': 7,\n",
       "         'asshur': 8,\n",
       "         'nineveh': 18,\n",
       "         'rehoboth': 4,\n",
       "         'calah': 2,\n",
       "         'resen': 1,\n",
       "         'ludim': 2,\n",
       "         'anamim': 2,\n",
       "         'lehabim': 2,\n",
       "         'naphtuhim': 2,\n",
       "         'pathrusim': 2,\n",
       "         'casluhim': 2,\n",
       "         'philistim': 1,\n",
       "         'caphtorim': 1,\n",
       "         'sidon': 14,\n",
       "         'heth': 14,\n",
       "         'jebusite': 14,\n",
       "         'amorite': 14,\n",
       "         'girgasite': 1,\n",
       "         'hivite': 9,\n",
       "         'arkite': 2,\n",
       "         'sinite': 2,\n",
       "         'arvadite': 2,\n",
       "         'zemarite': 2,\n",
       "         'hamathite': 2,\n",
       "         'afterward': 66,\n",
       "         'canaanites': 55,\n",
       "         'spread': 109,\n",
       "         'abroad': 80,\n",
       "         'border': 158,\n",
       "         'comest': 29,\n",
       "         'gerar': 10,\n",
       "         'gaza': 19,\n",
       "         'goest': 46,\n",
       "         'sodom': 48,\n",
       "         'gomorrah': 19,\n",
       "         'admah': 5,\n",
       "         'zeboim': 5,\n",
       "         'lasha': 1,\n",
       "         'tongues': 36,\n",
       "         'countries': 55,\n",
       "         'eber': 13,\n",
       "         'elder': 20,\n",
       "         'elam': 28,\n",
       "         'arphaxad': 10,\n",
       "         'lud': 4,\n",
       "         'aram': 10,\n",
       "         'uz': 7,\n",
       "         'hul': 2,\n",
       "         'gether': 2,\n",
       "         'mash': 1,\n",
       "         'salah': 6,\n",
       "         'peleg': 7,\n",
       "         'joktan': 6,\n",
       "         'almodad': 2,\n",
       "         'sheleph': 2,\n",
       "         'hazarmaveth': 2,\n",
       "         'jerah': 2,\n",
       "         'hadoram': 4,\n",
       "         'uzal': 2,\n",
       "         'diklah': 2,\n",
       "         'obal': 1,\n",
       "         'abimael': 2,\n",
       "         'ophir': 13,\n",
       "         'jobab': 9,\n",
       "         'dwelling': 52,\n",
       "         'mesha': 4,\n",
       "         'sephar': 1,\n",
       "         'mount': 263,\n",
       "         'language': 27,\n",
       "         'journeyed': 33,\n",
       "         'plain': 75,\n",
       "         'brick': 7,\n",
       "         'burn': 138,\n",
       "         'thoroughly': 3,\n",
       "         'slime': 2,\n",
       "         'morter': 11,\n",
       "         'build': 163,\n",
       "         'tower': 48,\n",
       "         'top': 91,\n",
       "         'reach': 15,\n",
       "         'scattered': 71,\n",
       "         'down': 1125,\n",
       "         'people': 2139,\n",
       "         'begin': 27,\n",
       "         'nothing': 225,\n",
       "         'imagined': 3,\n",
       "         'confound': 5,\n",
       "         'understand': 91,\n",
       "         'anothers': 5,\n",
       "         'left': 348,\n",
       "         'scatter': 38,\n",
       "         'reu': 5,\n",
       "         'serug': 5,\n",
       "         'nahor': 15,\n",
       "         'terah': 11,\n",
       "         'nineteen': 3,\n",
       "         'abram': 54,\n",
       "         'haran': 19,\n",
       "         'lot': 111,\n",
       "         'nativity': 7,\n",
       "         'ur': 5,\n",
       "         'chaldees': 14,\n",
       "         'abrams': 7,\n",
       "         'sarai': 16,\n",
       "         'nahors': 2,\n",
       "         'milcah': 11,\n",
       "         'daughter': 324,\n",
       "         'iscah': 1,\n",
       "         'barren': 23,\n",
       "         'child': 201,\n",
       "         'law': 523,\n",
       "         'get': 118,\n",
       "         'country': 179,\n",
       "         'kindred': 28,\n",
       "         'shew': 228,\n",
       "         'nation': 145,\n",
       "         'bless': 127,\n",
       "         'blessing': 67,\n",
       "         'curseth': 10,\n",
       "         'departed': 216,\n",
       "         'spoken': 287,\n",
       "         'souls': 79,\n",
       "         'passed': 161,\n",
       "         'sichem': 1,\n",
       "         'moreh': 3,\n",
       "         'canaanite': 14,\n",
       "         'appeared': 70,\n",
       "         'mountain': 136,\n",
       "         'bethel': 66,\n",
       "         'pitched': 82,\n",
       "         'having': 193,\n",
       "         'west': 69,\n",
       "         'hai': 2,\n",
       "         'going': 92,\n",
       "         'still': 101,\n",
       "         'south': 143,\n",
       "         'famine': 96,\n",
       "         'egypt': 611,\n",
       "         'sojourn': 33,\n",
       "         'grievous': 38,\n",
       "         'near': 211,\n",
       "         'enter': 149,\n",
       "         'egyptians': 102,\n",
       "         'say': 1056,\n",
       "         'save': 233,\n",
       "         'pray': 313,\n",
       "         'beheld': 53,\n",
       "         'princes': 276,\n",
       "         'pharaoh': 225,\n",
       "         'commended': 6,\n",
       "         'pharaohs': 48,\n",
       "         'entreated': 9,\n",
       "         'oxen': 102,\n",
       "         'asses': 64,\n",
       "         'menservants': 10,\n",
       "         'maidservants': 11,\n",
       "         'camels': 53,\n",
       "         'plagued': 6,\n",
       "         'plagues': 24,\n",
       "         'didst': 122,\n",
       "         'tell': 217,\n",
       "         'saidst': 22,\n",
       "         'might': 475,\n",
       "         'away': 915,\n",
       "         'rich': 81,\n",
       "         'silver': 320,\n",
       "         'journeys': 9,\n",
       "         'been': 331,\n",
       "         'flocks': 80,\n",
       "         'herds': 33,\n",
       "         'able': 160,\n",
       "         'could': 166,\n",
       "         'strife': 39,\n",
       "         'herdmen': 8,\n",
       "         'lots': 26,\n",
       "         'perizzite': 5,\n",
       "         'dwelled': 6,\n",
       "         'separate': 32,\n",
       "         'thyself': 215,\n",
       "         'wilt': 245,\n",
       "         'right': 359,\n",
       "         'or': 1122,\n",
       "         'depart': 125,\n",
       "         'lifted': 158,\n",
       "         'jordan': 197,\n",
       "         'like': 669,\n",
       "         'zoar': 10,\n",
       "         'separated': 33,\n",
       "         'cities': 448,\n",
       "         'wicked': 344,\n",
       "         'sinners': 48,\n",
       "         'thine': 938,\n",
       "         'northward': 24,\n",
       "         'southward': 24,\n",
       "         'westward': 26,\n",
       "         'seest': 36,\n",
       "         'number': 178,\n",
       "         'numbered': 128,\n",
       "         'arise': 149,\n",
       "         'walk': 212,\n",
       "         'mamre': 10,\n",
       "         'hebron': 73,\n",
       "         'built': 169,\n",
       "         'amraphel': 2,\n",
       "         'arioch': 7,\n",
       "         'ellasar': 2,\n",
       "         'chedorlaomer': 5,\n",
       "         'tidal': 2,\n",
       "         'war': 225,\n",
       "         'bera': 1,\n",
       "         'birsha': 1,\n",
       "         'shinab': 1,\n",
       "         'shemeber': 1,\n",
       "         'zeboiim': 2,\n",
       "         'bela': 13,\n",
       "         'joined': 43,\n",
       "         'vale': 9,\n",
       "         'siddim': 3,\n",
       "         'salt': 40,\n",
       "         'served': 74,\n",
       "         'thirteenth': 11,\n",
       "         'rebelled': 34,\n",
       "         'fourteenth': 25,\n",
       "         'kings': 624,\n",
       "         'smote': 229,\n",
       "         'rephaims': 2,\n",
       "         'ashteroth': 1,\n",
       "         'karnaim': 1,\n",
       "         'zuzims': 1,\n",
       "         'emins': 1,\n",
       "         'shaveh': 2,\n",
       "         'kiriathaim': 4,\n",
       "         'horites': 3,\n",
       "         'seir': 39,\n",
       "         'elparan': 1,\n",
       "         'wilderness': 304,\n",
       "         'enmishpat': 1,\n",
       "         'kadesh': 17,\n",
       "         'amalekites': 24,\n",
       "         'amorites': 73,\n",
       "         'hazezontamar': 1,\n",
       "         'battle': 170,\n",
       "         'full': 260,\n",
       "         'slimepits': 1,\n",
       "         'fled': 146,\n",
       "         'goods': 42,\n",
       "         'victuals': 17,\n",
       "         'escaped': 58,\n",
       "         ...})"
      ]
     },
     "execution_count": 64,
     "metadata": {},
     "output_type": "execute_result"
    }
   ],
   "source": [
    "c = Counter(words)\n",
    "c"
   ]
  },
  {
   "cell_type": "code",
   "execution_count": 65,
   "metadata": {},
   "outputs": [
    {
     "data": {
      "text/plain": [
       "[('the', 64023),\n",
       " ('and', 51696),\n",
       " ('of', 34670),\n",
       " ('to', 13580),\n",
       " ('that', 12912),\n",
       " ('in', 12667),\n",
       " ('he', 10419),\n",
       " ('shall', 9838),\n",
       " ('unto', 8997),\n",
       " ('for', 8970)]"
      ]
     },
     "execution_count": 65,
     "metadata": {},
     "output_type": "execute_result"
    }
   ],
   "source": [
    "\n",
    "c.most_common(10)"
   ]
  },
  {
   "cell_type": "markdown",
   "metadata": {},
   "source": [
    "### Your Turn: Removing stopwords and looking at the top ten most common words\n",
    "\n",
    "Stopwords are filler words like articles, conjunctions etc which don't carry a lot of information on their own. You have seen some examples in the previous section. Can you remove the stopwords from our previous list of words and show the top ten words?\n",
    "\n",
    "You can retrieve a list of common stopwords using the standard __`nltk`__ library as follows."
   ]
  },
  {
   "cell_type": "code",
   "execution_count": 69,
   "metadata": {},
   "outputs": [
    {
     "data": {
      "text/plain": [
       "['i', 'me', 'my', 'myself', 'we', 'our', 'ours', 'ourselves', 'you', \"you're\"]"
      ]
     },
     "execution_count": 69,
     "metadata": {},
     "output_type": "execute_result"
    }
   ],
   "source": [
    "import nltk \n",
    "\n",
    "stopwords = nltk.corpus.stopwords.words('english')\n",
    "stopwords[:10]"
   ]
  },
  {
   "cell_type": "code",
   "execution_count": 67,
   "metadata": {},
   "outputs": [
    {
     "data": {
      "text/plain": [
       "179"
      ]
     },
     "execution_count": 67,
     "metadata": {},
     "output_type": "execute_result"
    }
   ],
   "source": [
    "len(stopwords)"
   ]
  },
  {
   "cell_type": "code",
   "execution_count": 95,
   "metadata": {
    "collapsed": true
   },
   "outputs": [
    {
     "data": {
      "text/plain": [
       "['i',\n",
       " 'me',\n",
       " 'my',\n",
       " 'myself',\n",
       " 'we',\n",
       " 'our',\n",
       " 'ours',\n",
       " 'ourselves',\n",
       " 'you',\n",
       " \"you're\",\n",
       " \"you've\",\n",
       " \"you'll\",\n",
       " \"you'd\",\n",
       " 'your',\n",
       " 'yours',\n",
       " 'yourself',\n",
       " 'yourselves',\n",
       " 'he',\n",
       " 'him',\n",
       " 'his',\n",
       " 'himself',\n",
       " 'she',\n",
       " \"she's\",\n",
       " 'her',\n",
       " 'hers',\n",
       " 'herself',\n",
       " 'it',\n",
       " \"it's\",\n",
       " 'its',\n",
       " 'itself',\n",
       " 'they',\n",
       " 'them',\n",
       " 'their',\n",
       " 'theirs',\n",
       " 'themselves',\n",
       " 'what',\n",
       " 'which',\n",
       " 'who',\n",
       " 'whom',\n",
       " 'this',\n",
       " 'that',\n",
       " \"that'll\",\n",
       " 'these',\n",
       " 'those',\n",
       " 'am',\n",
       " 'is',\n",
       " 'are',\n",
       " 'was',\n",
       " 'were',\n",
       " 'be',\n",
       " 'been',\n",
       " 'being',\n",
       " 'have',\n",
       " 'has',\n",
       " 'had',\n",
       " 'having',\n",
       " 'do',\n",
       " 'does',\n",
       " 'did',\n",
       " 'doing',\n",
       " 'a',\n",
       " 'an',\n",
       " 'the',\n",
       " 'and',\n",
       " 'but',\n",
       " 'if',\n",
       " 'or',\n",
       " 'because',\n",
       " 'as',\n",
       " 'until',\n",
       " 'while',\n",
       " 'of',\n",
       " 'at',\n",
       " 'by',\n",
       " 'for',\n",
       " 'with',\n",
       " 'about',\n",
       " 'against',\n",
       " 'between',\n",
       " 'into',\n",
       " 'through',\n",
       " 'during',\n",
       " 'before',\n",
       " 'after',\n",
       " 'above',\n",
       " 'below',\n",
       " 'to',\n",
       " 'from',\n",
       " 'up',\n",
       " 'down',\n",
       " 'in',\n",
       " 'out',\n",
       " 'on',\n",
       " 'off',\n",
       " 'over',\n",
       " 'under',\n",
       " 'again',\n",
       " 'further',\n",
       " 'then',\n",
       " 'once',\n",
       " 'here',\n",
       " 'there',\n",
       " 'when',\n",
       " 'where',\n",
       " 'why',\n",
       " 'how',\n",
       " 'all',\n",
       " 'any',\n",
       " 'both',\n",
       " 'each',\n",
       " 'few',\n",
       " 'more',\n",
       " 'most',\n",
       " 'other',\n",
       " 'some',\n",
       " 'such',\n",
       " 'no',\n",
       " 'nor',\n",
       " 'not',\n",
       " 'only',\n",
       " 'own',\n",
       " 'same',\n",
       " 'so',\n",
       " 'than',\n",
       " 'too',\n",
       " 'very',\n",
       " 's',\n",
       " 't',\n",
       " 'can',\n",
       " 'will',\n",
       " 'just',\n",
       " 'don',\n",
       " \"don't\",\n",
       " 'should',\n",
       " \"should've\",\n",
       " 'now',\n",
       " 'd',\n",
       " 'll',\n",
       " 'm',\n",
       " 'o',\n",
       " 're',\n",
       " 've',\n",
       " 'y',\n",
       " 'ain',\n",
       " 'aren',\n",
       " \"aren't\",\n",
       " 'couldn',\n",
       " \"couldn't\",\n",
       " 'didn',\n",
       " \"didn't\",\n",
       " 'doesn',\n",
       " \"doesn't\",\n",
       " 'hadn',\n",
       " \"hadn't\",\n",
       " 'hasn',\n",
       " \"hasn't\",\n",
       " 'haven',\n",
       " \"haven't\",\n",
       " 'isn',\n",
       " \"isn't\",\n",
       " 'ma',\n",
       " 'mightn',\n",
       " \"mightn't\",\n",
       " 'mustn',\n",
       " \"mustn't\",\n",
       " 'needn',\n",
       " \"needn't\",\n",
       " 'shan',\n",
       " \"shan't\",\n",
       " 'shouldn',\n",
       " \"shouldn't\",\n",
       " 'wasn',\n",
       " \"wasn't\",\n",
       " 'weren',\n",
       " \"weren't\",\n",
       " 'won',\n",
       " \"won't\",\n",
       " 'wouldn',\n",
       " \"wouldn't\"]"
      ]
     },
     "execution_count": 95,
     "metadata": {},
     "output_type": "execute_result"
    }
   ],
   "source": [
    "stopwords"
   ]
  },
  {
   "cell_type": "markdown",
   "metadata": {},
   "source": [
    "Now use the above list and remove the stopwords and show the top ten words!"
   ]
  },
  {
   "cell_type": "code",
   "execution_count": 70,
   "metadata": {},
   "outputs": [
    {
     "data": {
      "text/plain": [
       "['king',\n",
       " 'james',\n",
       " 'bible',\n",
       " 'old',\n",
       " 'testament',\n",
       " 'king',\n",
       " 'james',\n",
       " 'bible',\n",
       " 'first',\n",
       " 'book']"
      ]
     },
     "execution_count": 70,
     "metadata": {},
     "output_type": "execute_result"
    }
   ],
   "source": [
    "words = [word for word in words if word not in stopwords]\n",
    "words[:10]"
   ]
  },
  {
   "cell_type": "code",
   "execution_count": null,
   "metadata": {},
   "outputs": [],
   "source": []
  },
  {
   "cell_type": "code",
   "execution_count": 71,
   "metadata": {
    "scrolled": true
   },
   "outputs": [
    {
     "data": {
      "text/plain": [
       "[('shall', 9838),\n",
       " ('unto', 8997),\n",
       " ('lord', 7830),\n",
       " ('thou', 5474),\n",
       " ('thy', 4600),\n",
       " ('god', 4442),\n",
       " ('said', 3999),\n",
       " ('ye', 3983),\n",
       " ('thee', 3826),\n",
       " ('upon', 2748),\n",
       " ('man', 2613),\n",
       " ('israel', 2565),\n",
       " ('son', 2370),\n",
       " ('hath', 2264),\n",
       " ('king', 2259)]"
      ]
     },
     "execution_count": 71,
     "metadata": {},
     "output_type": "execute_result"
    }
   ],
   "source": [
    "c = Counter(words)\n",
    "c.most_common(15)"
   ]
  },
  {
   "cell_type": "code",
   "execution_count": null,
   "metadata": {},
   "outputs": [],
   "source": []
  }
 ],
 "metadata": {
  "anaconda-cloud": {},
  "kernelspec": {
   "display_name": "Python 3",
   "language": "python",
   "name": "python3"
  },
  "language_info": {
   "codemirror_mode": {
    "name": "ipython",
    "version": 3
   },
   "file_extension": ".py",
   "mimetype": "text/x-python",
   "name": "python",
   "nbconvert_exporter": "python",
   "pygments_lexer": "ipython3",
   "version": "3.6.13"
  }
 },
 "nbformat": 4,
 "nbformat_minor": 2
}
